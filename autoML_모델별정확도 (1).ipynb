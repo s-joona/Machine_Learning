{
  "nbformat": 4,
  "nbformat_minor": 0,
  "metadata": {
    "colab": {
      "private_outputs": true,
      "provenance": [],
      "collapsed_sections": [],
      "machine_shape": "hm"
    },
    "kernelspec": {
      "name": "python3",
      "display_name": "Python 3"
    },
    "language_info": {
      "name": "python"
    },
    "accelerator": "GPU"
  },
  "cells": [
    {
      "cell_type": "code",
      "source": [
        "from google.colab import drive\n",
        "drive.mount('/content/drive')"
      ],
      "metadata": {
        "id": "YpTYtHpDxIG-"
      },
      "execution_count": null,
      "outputs": []
    },
    {
      "cell_type": "code",
      "execution_count": null,
      "metadata": {
        "id": "IuE9peU_qF0T"
      },
      "outputs": [],
      "source": [
        "import pandas as pd\n",
        "import numpy as np# Import library\n",
        "import pandas as pd\n",
        "from tqdm import tqdm\n",
        "from sklearn.neural_network import MLPClassifier\n",
        "from sklearn.neighbors import KNeighborsClassifier\n",
        "from sklearn.svm import SVC\n",
        "from sklearn.gaussian_process import GaussianProcessClassifier\n",
        "from sklearn.gaussian_process.kernels import RBF\n",
        "from sklearn.tree import DecisionTreeClassifier\n",
        "from sklearn.ensemble import RandomForestClassifier, AdaBoostClassifier\n",
        "from sklearn.naive_bayes import GaussianNB\n",
        "from sklearn.discriminant_analysis import QuadraticDiscriminantAnalysis\n",
        "import csv"
      ]
    },
    {
      "cell_type": "code",
      "source": [
        "user = pd.read_csv('/content/drive/MyDrive/Colab Notebooks/대출 예측/데이터 전처리/user_spec_LE_진짜최종.csv', encoding = 'cp949')\n",
        "user"
      ],
      "metadata": {
        "id": "ydxLp4rPMPCH"
      },
      "execution_count": null,
      "outputs": []
    },
    {
      "cell_type": "code",
      "source": [
        "loan = pd.read_csv('/content/drive/MyDrive/Colab Notebooks/대출 예측/데이터 전처리/loan_result_최종.csv', encoding = 'cp949')\n",
        "loan"
      ],
      "metadata": {
        "id": "s9rJwtimMj_9"
      },
      "execution_count": null,
      "outputs": []
    },
    {
      "cell_type": "code",
      "source": [
        "loan_notnull = loan.loc[loan['is_applied'].notnull()]\n",
        "loan_notnull['is_applied'].value_counts()"
      ],
      "metadata": {
        "id": "vU7gn3a5QqJg"
      },
      "execution_count": null,
      "outputs": []
    },
    {
      "cell_type": "code",
      "source": [
        "loan_null = loan.loc[loan['is_applied'].isnull()]"
      ],
      "metadata": {
        "id": "L1jrFuVRx8OR"
      },
      "execution_count": null,
      "outputs": []
    },
    {
      "cell_type": "code",
      "source": [
        "# user_spec 과 train inner 조인\n",
        "loan_user = pd.merge(loan_notnull, user,on='application_id', how='inner')"
      ],
      "metadata": {
        "id": "FWo6MXpLPkQ7"
      },
      "execution_count": null,
      "outputs": []
    },
    {
      "cell_type": "code",
      "source": [
        "# 13519868 \n",
        "loan_user"
      ],
      "metadata": {
        "id": "frcyD1HWRRhm"
      },
      "execution_count": null,
      "outputs": []
    },
    {
      "cell_type": "code",
      "source": [
        "loan_notnull = loan.loc[loan['is_applied'].notnull()]\n",
        "loan_notnull['is_applied'].value_counts()"
      ],
      "metadata": {
        "id": "r9pAobxpa57I"
      },
      "execution_count": null,
      "outputs": []
    },
    {
      "cell_type": "code",
      "source": [
        "loan_null = loan.loc[loan['is_applied'].isnull()]"
      ],
      "metadata": {
        "id": "bgVbX8B_a57J"
      },
      "execution_count": null,
      "outputs": []
    },
    {
      "cell_type": "code",
      "source": [
        "# user_spec 과 train inner 조인\n",
        "loan_user = pd.merge(loan_notnull, user,on='application_id', how='inner')"
      ],
      "metadata": {
        "id": "5wnKm99Pa57J"
      },
      "execution_count": null,
      "outputs": []
    },
    {
      "cell_type": "code",
      "source": [
        "# 13519868 \n",
        "loan_user"
      ],
      "metadata": {
        "id": "DJ3IheqOa57K"
      },
      "execution_count": null,
      "outputs": []
    },
    {
      "cell_type": "code",
      "source": [
        "loan_user['is_applied'].value_counts()"
      ],
      "metadata": {
        "id": "HY0j2rgtTEQy"
      },
      "execution_count": null,
      "outputs": []
    },
    {
      "cell_type": "code",
      "source": [
        "loan_user.columns"
      ],
      "metadata": {
        "id": "SMr1WXCcRpgJ"
      },
      "execution_count": null,
      "outputs": []
    },
    {
      "cell_type": "code",
      "source": [
        "loan_user = loan_user[['application_id', 'user_id','bank_id', 'product_id', 'gender', 'Age',\n",
        "       'loanapply_insert_time', 'loan_limit', 'loan_rate',  \n",
        "       'credit_score', 'yearly_income', 'label_income_type',\n",
        "       'label_employment_type', 'label_houseown_type', 'label_purpose',\n",
        "       'desired_amount', 'personal_rehabilitation_yn','personal_rehabilitation_complete_yn',\n",
        "        'existing_loan_cnt', 'existing_loan_amt',\n",
        "       'work_day','is_applied']]"
      ],
      "metadata": {
        "id": "RhKdGDSTTFiE"
      },
      "execution_count": null,
      "outputs": []
    },
    {
      "cell_type": "code",
      "source": [
        "loan_user = loan_user.drop(['loanapply_insert_time', 'application_id', 'user_id','bank_id'], axis = 1)"
      ],
      "metadata": {
        "id": "q0SvMtQ-T5rs"
      },
      "execution_count": null,
      "outputs": []
    },
    {
      "cell_type": "code",
      "source": [
        "loan_user.columns"
      ],
      "metadata": {
        "id": "HEVDi-2sUB-w"
      },
      "execution_count": null,
      "outputs": []
    },
    {
      "cell_type": "code",
      "source": [
        "dataset = loan_user"
      ],
      "metadata": {
        "id": "sddNLDqbUvo0"
      },
      "execution_count": null,
      "outputs": []
    },
    {
      "cell_type": "code",
      "source": [
        "from sklearn.model_selection import train_test_split\n",
        "X_train, X_test, y_train, y_test = train_test_split(dataset[['product_id', 'gender', 'Age', 'loan_limit', 'loan_rate',\n",
        "       'credit_score', 'yearly_income', 'label_income_type',\n",
        "       'label_employment_type', 'label_houseown_type', 'label_purpose',\n",
        "       'desired_amount', 'personal_rehabilitation_yn',\n",
        "       'personal_rehabilitation_complete_yn', 'existing_loan_cnt',\n",
        "       'existing_loan_amt','work_day']], dataset['is_applied'])\n",
        "\n",
        "train = pd.concat([X_train, y_train], axis = 1)\n",
        "test = pd.concat([X_test, y_test], axis= 1)"
      ],
      "metadata": {
        "id": "A5n4LxxOyUXh"
      },
      "execution_count": null,
      "outputs": []
    },
    {
      "cell_type": "code",
      "source": [
        "train"
      ],
      "metadata": {
        "id": "3h90Wv5_4X5R"
      },
      "execution_count": null,
      "outputs": []
    },
    {
      "cell_type": "code",
      "source": [
        "!pip install pycaret"
      ],
      "metadata": {
        "id": "zz06DcpZ048T"
      },
      "execution_count": null,
      "outputs": []
    },
    {
      "cell_type": "code",
      "source": [
        "!pip install numba==0.53"
      ],
      "metadata": {
        "id": "q-dbrq2r126v"
      },
      "execution_count": null,
      "outputs": []
    },
    {
      "cell_type": "code",
      "source": [
        "!pip uninstall scikit-learn==1.0.2.\n",
        "!pip install scikit-learn==0.23.2"
      ],
      "metadata": {
        "id": "QSqV1x3z2JUT"
      },
      "execution_count": null,
      "outputs": []
    },
    {
      "cell_type": "code",
      "source": [
        "from pycaret.regression import *\n",
        "from pycaret.classification import *"
      ],
      "metadata": {
        "id": "ioMqXaTfqRhj"
      },
      "execution_count": null,
      "outputs": []
    },
    {
      "cell_type": "code",
      "source": [
        "train.columns"
      ],
      "metadata": {
        "id": "nGSouh_X4Qsj"
      },
      "execution_count": null,
      "outputs": []
    },
    {
      "cell_type": "code",
      "source": [
        "clf = setup(data = train, target = 'is_applied', use_gpu=True)"
      ],
      "metadata": {
        "id": "nRdzFPw51-0E"
      },
      "execution_count": null,
      "outputs": []
    },
    {
      "cell_type": "code",
      "source": [
        "best_5 = compare_models(sort = 'AUC', n_select = 5)"
      ],
      "metadata": {
        "id": "B3ksGTQX4tNl"
      },
      "execution_count": null,
      "outputs": []
    },
    {
      "cell_type": "code",
      "source": [
        "tuned_best_5 = [tune_model(i) for i in best_5]"
      ],
      "metadata": {
        "id": "Rys4KPNaHxX9"
      },
      "execution_count": null,
      "outputs": []
    },
    {
      "cell_type": "code",
      "source": [
        "tuned_best_5"
      ],
      "metadata": {
        "id": "-5Lf6oC0H7sg"
      },
      "execution_count": null,
      "outputs": []
    },
    {
      "cell_type": "code",
      "source": [
        "blended = blend_models(estimator_list = best_5, method = 'soft')"
      ],
      "metadata": {
        "id": "rILDaZo7H7wV"
      },
      "execution_count": null,
      "outputs": []
    },
    {
      "cell_type": "code",
      "source": [
        "pred_holdout = predict_model(blended)"
      ],
      "metadata": {
        "id": "HqIsidbOH_yH"
      },
      "execution_count": null,
      "outputs": []
    },
    {
      "cell_type": "code",
      "source": [
        "final_model = finalize_model(blended)"
      ],
      "metadata": {
        "id": "F7jLRtkNH_01"
      },
      "execution_count": null,
      "outputs": []
    },
    {
      "cell_type": "code",
      "source": [
        "predictions = predict_model(final_model, data = test)"
      ],
      "metadata": {
        "id": "KLLXjr-BH_3k"
      },
      "execution_count": null,
      "outputs": []
    },
    {
      "cell_type": "code",
      "source": [],
      "metadata": {
        "id": "m03z5inFH_6b"
      },
      "execution_count": null,
      "outputs": []
    }
  ]
}